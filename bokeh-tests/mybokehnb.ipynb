{
 "cells": [
  {
   "cell_type": "code",
   "execution_count": null,
   "metadata": {
    "collapsed": true
   },
   "outputs": [],
   "source": [
    "import datashader\n",
    "from holoviews.plotting.util import process_cmap\n",
    "from numpy import log\n",
    "from pyopenms import *\n",
    "import pandas as pd\n",
    "import holoviews as hv\n",
    "import holoviews.operation.datashader as hd\n",
    "from holoviews import dim\n",
    "hv.extension('bokeh')\n",
    "\n",
    "\n",
    "i = 0\n",
    "\n",
    "def modify_doc(doc):\n",
    "    \"\"\"Add a plotted function to the document.\n",
    "\n",
    "    Arguments:\n",
    "        doc: A bokeh document to which elements can be added.\n",
    "    \"\"\"\n",
    "    exp = MSExperiment()\n",
    "    MzMLFile().load(\"/Volumes/Data/UPS1/mzML/UPS1_5000amol_R1.mzML\", exp)\n",
    "    cols = [\"RT\", \"mzarray\", \"intarray\"]\n",
    "    expandcols = [\"RT\", \"mz\", \"int\"]\n",
    "    #spectraarr = np.fromiter(((spec.getRT(), point[0], point[1]) for spec in exp if spec.getMSLevel() == 1 for point in zip(*spec.get_peaks())), dtype=['f','f','f'])\n",
    "    #spectradf = pd.DataFrame(data=((spec.getRT(), *spec.get_peaks()) for spec in exp if spec.getMSLevel() == 1), columns=cols)\n",
    "    spectradf = pd.DataFrame(data=((spec.getRT(), point[0], point[1]) for spec in exp if spec.getMSLevel() == 1 for point in zip(*spec.get_peaks())), columns=expandcols)\n",
    "\n",
    "    points = hv.Points(spectradf, kdims=['RT', 'mz'], vdims=['int'], label = \"MS1\").opts(\n",
    "        fontsize={'title': 16, 'labels': 14, 'xticks': 6, 'yticks': 12},\n",
    "        color=log(dim('int')),\n",
    "        colorbar=True,\n",
    "        cmap='Magma',\n",
    "        width=1000,\n",
    "        height=1000,\n",
    "        tools=['hover'])\n",
    "\n",
    "    # Unfortunately datashade cannot transfer interactiveness (e.g. hover) or colorbars\n",
    "    # see https://anaconda.org/jbednar/datashade_vs_rasterize/notebook\n",
    "    #shade = hd.datashade(points,cmap=process_cmap(\"blues\", provider=\"bokeh\"), alpha=250, min_alpha=10).opts(\n",
    "    #    plot=dict(\n",
    "    #        width=1000,\n",
    "    #        height=1000))#, color_key=colors)\n",
    "    raster = hd.rasterize(points,cmap=process_cmap(\"blues\", provider=\"bokeh\"),aggregator=datashader.sum('int'),cnorm='log',alpha=50, min_alpha=10).opts(\n",
    "        tools=['hover']).opts(\n",
    "        plot = dict(\n",
    "            width=1000,\n",
    "            height=1000)\n",
    "    )\n",
    "    #selection = hv.streams.Selection1D(source=points)\n",
    "\n",
    "    # 2. Instead of Jupyter's automatic rich display, render the object as a bokeh document\n",
    "    #hv.renderer('bokeh').server_doc(hd.dynspread(shade), doc=doc)\n",
    "    hv.renderer('bokeh')\n",
    "    hd.dynspread(raster)\n"
   ]
  }
 ],
 "metadata": {
  "kernelspec": {
   "display_name": "Python 3",
   "language": "python",
   "name": "python3"
  },
  "language_info": {
   "codemirror_mode": {
    "name": "ipython",
    "version": 2
   },
   "file_extension": ".py",
   "mimetype": "text/x-python",
   "name": "python",
   "nbconvert_exporter": "python",
   "pygments_lexer": "ipython2",
   "version": "2.7.6"
  }
 },
 "nbformat": 4,
 "nbformat_minor": 0
}